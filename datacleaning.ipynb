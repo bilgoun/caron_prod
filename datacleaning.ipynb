{
 "cells": [
  {
   "cell_type": "code",
   "execution_count": 1,
   "id": "7b260907",
   "metadata": {},
   "outputs": [],
   "source": [
    "import pandas as pd\n",
    "import numpy as np\n",
    "import matplotlib.pyplot as plt"
   ]
  },
  {
   "cell_type": "code",
   "execution_count": 3,
   "id": "ad6542aa",
   "metadata": {},
   "outputs": [],
   "source": [
    "data = pd.read_csv(\"your_path_to_csv\", encoding='utf-8')"
   ]
  },
  {
   "cell_type": "code",
   "execution_count": 4,
   "id": "66746206",
   "metadata": {},
   "outputs": [
    {
     "data": {
      "text/html": [
       "<div>\n",
       "<style scoped>\n",
       "    .dataframe tbody tr th:only-of-type {\n",
       "        vertical-align: middle;\n",
       "    }\n",
       "\n",
       "    .dataframe tbody tr th {\n",
       "        vertical-align: top;\n",
       "    }\n",
       "\n",
       "    .dataframe thead th {\n",
       "        text-align: right;\n",
       "    }\n",
       "</style>\n",
       "<table border=\"1\" class=\"dataframe\">\n",
       "  <thead>\n",
       "    <tr style=\"text-align: right;\">\n",
       "      <th></th>\n",
       "      <th>Brand</th>\n",
       "      <th>Model</th>\n",
       "      <th>Year Made</th>\n",
       "      <th>Imported Year</th>\n",
       "      <th>Price</th>\n",
       "      <th>Odometer</th>\n",
       "      <th>Мотор багтаамж</th>\n",
       "      <th>Хурдны хайрцаг</th>\n",
       "      <th>Хүрд</th>\n",
       "      <th>Төрөл</th>\n",
       "      <th>Өнгө</th>\n",
       "      <th>Үйлдвэрлэсэн он</th>\n",
       "      <th>Орж ирсэн он</th>\n",
       "      <th>Хөдөлгүүр</th>\n",
       "      <th>Дотор өнгө</th>\n",
       "      <th>Лизинг</th>\n",
       "      <th>Хөтлөгч</th>\n",
       "      <th>Нөхцөл</th>\n",
       "      <th>Хаалга</th>\n",
       "    </tr>\n",
       "  </thead>\n",
       "  <tbody>\n",
       "    <tr>\n",
       "      <th>0</th>\n",
       "      <td>Toyota</td>\n",
       "      <td>Prius 30</td>\n",
       "      <td>2015</td>\n",
       "      <td>2023</td>\n",
       "      <td>5 сая ₮</td>\n",
       "      <td>150000</td>\n",
       "      <td>1.7 л</td>\n",
       "      <td>Автомат</td>\n",
       "      <td>Буруу</td>\n",
       "      <td>Суудлын тэрэг</td>\n",
       "      <td>Саарал</td>\n",
       "      <td>2015</td>\n",
       "      <td>2023</td>\n",
       "      <td>Хайбрид</td>\n",
       "      <td>Саарал</td>\n",
       "      <td>гүй</td>\n",
       "      <td>Урдаа FWD</td>\n",
       "      <td>Дугаар авсан</td>\n",
       "      <td>5</td>\n",
       "    </tr>\n",
       "    <tr>\n",
       "      <th>1</th>\n",
       "      <td>Toyota</td>\n",
       "      <td>Sai</td>\n",
       "      <td>2013</td>\n",
       "      <td>2022</td>\n",
       "      <td>5 сая ₮</td>\n",
       "      <td>120000</td>\n",
       "      <td>2.4 л</td>\n",
       "      <td>Автомат</td>\n",
       "      <td>Буруу</td>\n",
       "      <td>Суудлын тэрэг</td>\n",
       "      <td>Хар саарал</td>\n",
       "      <td>2013</td>\n",
       "      <td>2022</td>\n",
       "      <td>Хайбрид</td>\n",
       "      <td>Хар</td>\n",
       "      <td>ББСБ лизингтэй</td>\n",
       "      <td>Урдаа FWD</td>\n",
       "      <td>Дугаар авсан</td>\n",
       "      <td>4</td>\n",
       "    </tr>\n",
       "    <tr>\n",
       "      <th>2</th>\n",
       "      <td>Toyota</td>\n",
       "      <td>Land Cruiser Prado</td>\n",
       "      <td>2014</td>\n",
       "      <td>2023</td>\n",
       "      <td>92 сая ₮</td>\n",
       "      <td>132000</td>\n",
       "      <td>2.7 л</td>\n",
       "      <td>Автомат</td>\n",
       "      <td>Буруу</td>\n",
       "      <td>Жийп</td>\n",
       "      <td>Хар</td>\n",
       "      <td>2014</td>\n",
       "      <td>2023</td>\n",
       "      <td>Бензин</td>\n",
       "      <td>Хар</td>\n",
       "      <td>гүй</td>\n",
       "      <td>Бүх дугуй 4WD</td>\n",
       "      <td>Дугаар авсан</td>\n",
       "      <td>5</td>\n",
       "    </tr>\n",
       "    <tr>\n",
       "      <th>3</th>\n",
       "      <td>Toyota</td>\n",
       "      <td>Prius 30</td>\n",
       "      <td>2011</td>\n",
       "      <td>2022</td>\n",
       "      <td>20 сая ₮</td>\n",
       "      <td>184</td>\n",
       "      <td>1.8 л</td>\n",
       "      <td>Автомат</td>\n",
       "      <td>Буруу</td>\n",
       "      <td>Суудлын тэрэг</td>\n",
       "      <td>Цагаан</td>\n",
       "      <td>2011</td>\n",
       "      <td>2022</td>\n",
       "      <td>Хайбрид</td>\n",
       "      <td>Цагаан шар</td>\n",
       "      <td>гүй</td>\n",
       "      <td>Урдаа FWD</td>\n",
       "      <td>Дугаар авсан</td>\n",
       "      <td>5</td>\n",
       "    </tr>\n",
       "    <tr>\n",
       "      <th>4</th>\n",
       "      <td>Jeep</td>\n",
       "      <td>Бусад</td>\n",
       "      <td>2013</td>\n",
       "      <td>2023</td>\n",
       "      <td>5 сая ₮</td>\n",
       "      <td>180000</td>\n",
       "      <td>2.4 л</td>\n",
       "      <td>Автомат</td>\n",
       "      <td>Зөв</td>\n",
       "      <td>Жийп</td>\n",
       "      <td>Хар</td>\n",
       "      <td>2013</td>\n",
       "      <td>2023</td>\n",
       "      <td>Бензин</td>\n",
       "      <td>Хар</td>\n",
       "      <td>ББСБ лизингтэй</td>\n",
       "      <td>Бүх дугуй 4WD</td>\n",
       "      <td>Дугаар авсан</td>\n",
       "      <td>5</td>\n",
       "    </tr>\n",
       "  </tbody>\n",
       "</table>\n",
       "</div>"
      ],
      "text/plain": [
       "    Brand               Model  Year Made  Imported Year     Price Odometer  \\\n",
       "0  Toyota            Prius 30       2015           2023   5 сая ₮   150000   \n",
       "1  Toyota                 Sai       2013           2022   5 сая ₮   120000   \n",
       "2  Toyota  Land Cruiser Prado       2014           2023  92 сая ₮   132000   \n",
       "3  Toyota            Prius 30       2011           2022  20 сая ₮      184   \n",
       "4    Jeep               Бусад       2013           2023   5 сая ₮   180000   \n",
       "\n",
       "  Мотор багтаамж Хурдны хайрцаг   Хүрд          Төрөл        Өнгө  \\\n",
       "0          1.7 л        Автомат  Буруу  Суудлын тэрэг      Саарал   \n",
       "1          2.4 л        Автомат  Буруу  Суудлын тэрэг  Хар саарал   \n",
       "2          2.7 л        Автомат  Буруу           Жийп         Хар   \n",
       "3          1.8 л        Автомат  Буруу  Суудлын тэрэг      Цагаан   \n",
       "4          2.4 л        Автомат    Зөв           Жийп         Хар   \n",
       "\n",
       "   Үйлдвэрлэсэн он  Орж ирсэн он Хөдөлгүүр  Дотор өнгө          Лизинг  \\\n",
       "0             2015          2023   Хайбрид      Саарал             гүй   \n",
       "1             2013          2022   Хайбрид         Хар  ББСБ лизингтэй   \n",
       "2             2014          2023    Бензин         Хар             гүй   \n",
       "3             2011          2022   Хайбрид  Цагаан шар             гүй   \n",
       "4             2013          2023    Бензин         Хар  ББСБ лизингтэй   \n",
       "\n",
       "         Хөтлөгч        Нөхцөл  Хаалга  \n",
       "0      Урдаа FWD  Дугаар авсан       5  \n",
       "1      Урдаа FWD  Дугаар авсан       4  \n",
       "2  Бүх дугуй 4WD  Дугаар авсан       5  \n",
       "3      Урдаа FWD  Дугаар авсан       5  \n",
       "4  Бүх дугуй 4WD  Дугаар авсан       5  "
      ]
     },
     "execution_count": 4,
     "metadata": {},
     "output_type": "execute_result"
    }
   ],
   "source": [
    "data.head()"
   ]
  },
  {
   "cell_type": "code",
   "execution_count": 5,
   "id": "896267cc",
   "metadata": {},
   "outputs": [
    {
     "name": "stdout",
     "output_type": "stream",
     "text": [
      "<class 'pandas.core.frame.DataFrame'>\n",
      "RangeIndex: 12899 entries, 0 to 12898\n",
      "Data columns (total 19 columns):\n",
      " #   Column           Non-Null Count  Dtype \n",
      "---  ------           --------------  ----- \n",
      " 0   Brand            12899 non-null  object\n",
      " 1   Model            12898 non-null  object\n",
      " 2   Year Made        12899 non-null  int64 \n",
      " 3   Imported Year    12899 non-null  int64 \n",
      " 4   Price            12896 non-null  object\n",
      " 5   Odometer         12899 non-null  object\n",
      " 6   Мотор багтаамж   12899 non-null  object\n",
      " 7   Хурдны хайрцаг   12899 non-null  object\n",
      " 8   Хүрд             12899 non-null  object\n",
      " 9   Төрөл            12899 non-null  object\n",
      " 10  Өнгө             12899 non-null  object\n",
      " 11  Үйлдвэрлэсэн он  12899 non-null  int64 \n",
      " 12  Орж ирсэн он     12899 non-null  int64 \n",
      " 13  Хөдөлгүүр        12899 non-null  object\n",
      " 14  Дотор өнгө       12899 non-null  object\n",
      " 15  Лизинг           12899 non-null  object\n",
      " 16  Хөтлөгч          12899 non-null  object\n",
      " 17  Нөхцөл           12899 non-null  object\n",
      " 18  Хаалга           12899 non-null  int64 \n",
      "dtypes: int64(5), object(14)\n",
      "memory usage: 1.9+ MB\n"
     ]
    }
   ],
   "source": [
    "data.info()"
   ]
  },
  {
   "cell_type": "code",
   "execution_count": 6,
   "id": "9db1c16f",
   "metadata": {},
   "outputs": [
    {
     "data": {
      "text/html": [
       "<div>\n",
       "<style scoped>\n",
       "    .dataframe tbody tr th:only-of-type {\n",
       "        vertical-align: middle;\n",
       "    }\n",
       "\n",
       "    .dataframe tbody tr th {\n",
       "        vertical-align: top;\n",
       "    }\n",
       "\n",
       "    .dataframe thead th {\n",
       "        text-align: right;\n",
       "    }\n",
       "</style>\n",
       "<table border=\"1\" class=\"dataframe\">\n",
       "  <thead>\n",
       "    <tr style=\"text-align: right;\">\n",
       "      <th></th>\n",
       "      <th>Year Made</th>\n",
       "      <th>Imported Year</th>\n",
       "      <th>Үйлдвэрлэсэн он</th>\n",
       "      <th>Орж ирсэн он</th>\n",
       "      <th>Хаалга</th>\n",
       "    </tr>\n",
       "  </thead>\n",
       "  <tbody>\n",
       "    <tr>\n",
       "      <th>count</th>\n",
       "      <td>12899.000000</td>\n",
       "      <td>12899.000000</td>\n",
       "      <td>12899.000000</td>\n",
       "      <td>12899.000000</td>\n",
       "      <td>12899.000000</td>\n",
       "    </tr>\n",
       "    <tr>\n",
       "      <th>mean</th>\n",
       "      <td>2011.821924</td>\n",
       "      <td>2019.709512</td>\n",
       "      <td>2011.821924</td>\n",
       "      <td>2019.709435</td>\n",
       "      <td>4.696721</td>\n",
       "    </tr>\n",
       "    <tr>\n",
       "      <th>std</th>\n",
       "      <td>5.051295</td>\n",
       "      <td>4.281158</td>\n",
       "      <td>5.051295</td>\n",
       "      <td>4.281107</td>\n",
       "      <td>0.537447</td>\n",
       "    </tr>\n",
       "    <tr>\n",
       "      <th>min</th>\n",
       "      <td>1980.000000</td>\n",
       "      <td>1980.000000</td>\n",
       "      <td>1980.000000</td>\n",
       "      <td>1980.000000</td>\n",
       "      <td>2.000000</td>\n",
       "    </tr>\n",
       "    <tr>\n",
       "      <th>25%</th>\n",
       "      <td>2009.000000</td>\n",
       "      <td>2018.000000</td>\n",
       "      <td>2009.000000</td>\n",
       "      <td>2018.000000</td>\n",
       "      <td>4.000000</td>\n",
       "    </tr>\n",
       "    <tr>\n",
       "      <th>50%</th>\n",
       "      <td>2012.000000</td>\n",
       "      <td>2021.000000</td>\n",
       "      <td>2012.000000</td>\n",
       "      <td>2021.000000</td>\n",
       "      <td>5.000000</td>\n",
       "    </tr>\n",
       "    <tr>\n",
       "      <th>75%</th>\n",
       "      <td>2015.000000</td>\n",
       "      <td>2023.000000</td>\n",
       "      <td>2015.000000</td>\n",
       "      <td>2023.000000</td>\n",
       "      <td>5.000000</td>\n",
       "    </tr>\n",
       "    <tr>\n",
       "      <th>max</th>\n",
       "      <td>2024.000000</td>\n",
       "      <td>2024.000000</td>\n",
       "      <td>2024.000000</td>\n",
       "      <td>2024.000000</td>\n",
       "      <td>6.000000</td>\n",
       "    </tr>\n",
       "  </tbody>\n",
       "</table>\n",
       "</div>"
      ],
      "text/plain": [
       "          Year Made  Imported Year  Үйлдвэрлэсэн он  Орж ирсэн он  \\\n",
       "count  12899.000000   12899.000000     12899.000000  12899.000000   \n",
       "mean    2011.821924    2019.709512      2011.821924   2019.709435   \n",
       "std        5.051295       4.281158         5.051295      4.281107   \n",
       "min     1980.000000    1980.000000      1980.000000   1980.000000   \n",
       "25%     2009.000000    2018.000000      2009.000000   2018.000000   \n",
       "50%     2012.000000    2021.000000      2012.000000   2021.000000   \n",
       "75%     2015.000000    2023.000000      2015.000000   2023.000000   \n",
       "max     2024.000000    2024.000000      2024.000000   2024.000000   \n",
       "\n",
       "             Хаалга  \n",
       "count  12899.000000  \n",
       "mean       4.696721  \n",
       "std        0.537447  \n",
       "min        2.000000  \n",
       "25%        4.000000  \n",
       "50%        5.000000  \n",
       "75%        5.000000  \n",
       "max        6.000000  "
      ]
     },
     "execution_count": 6,
     "metadata": {},
     "output_type": "execute_result"
    }
   ],
   "source": [
    "data.describe()"
   ]
  },
  {
   "cell_type": "code",
   "execution_count": 10,
   "id": "ab00db61",
   "metadata": {},
   "outputs": [
    {
     "data": {
      "text/plain": [
       "1.8 л        1894\n",
       "1.5 л        1855\n",
       "2.4 л        1243\n",
       "2.5 л        1239\n",
       "2.0 л        1205\n",
       "3.5 л        1103\n",
       "2.7 л         539\n",
       "4.0 л         429\n",
       "3.3 л         381\n",
       "3.0 л         342\n",
       "1.3 л         193\n",
       "4.5 л         191\n",
       "5.7 л         190\n",
       "4.7 л         181\n",
       "1.6 л         122\n",
       "Цахилгаан     120\n",
       "3.4 л         118\n",
       "2.3 л         113\n",
       "1.7 л         111\n",
       "1.9 л         109\n",
       "1.4 л         103\n",
       "3.6 л          99\n",
       "4.6 л          81\n",
       "0.4 л          69\n",
       "6.0 л          66\n",
       "2.2 л          58\n",
       "2.8 л          58\n",
       "3.2 л          58\n",
       "4.2 л          55\n",
       "5.0 л          54\n",
       "4.4 л          53\n",
       "5.6 л          45\n",
       "1.2 л          42\n",
       "0.6 л          35\n",
       "2.9 л          33\n",
       "5.5 л          30\n",
       "4.8 л          29\n",
       "0.5 л          27\n",
       "2.6 л          27\n",
       "4.1 л          22\n",
       "1.0 л          21\n",
       "2.1 л          18\n",
       "0.8 л          17\n",
       "3.9 л          14\n",
       "3.7 л          13\n",
       "5.4 л          12\n",
       "0.7 л          12\n",
       "5.3 л          12\n",
       "1.1 л          10\n",
       "3.1 л           9\n",
       "3.8 л           8\n",
       "4.9 л           7\n",
       "4.3 л           7\n",
       "5.8 л           5\n",
       "0.9 л           5\n",
       "5.9 л           3\n",
       "5.1 л           2\n",
       "5.2 л           2\n",
       "Name: Мотор багтаамж, dtype: int64"
      ]
     },
     "execution_count": 10,
     "metadata": {},
     "output_type": "execute_result"
    }
   ],
   "source": [
    "data[\"Мотор багтаамж\"].value_counts()"
   ]
  },
  {
   "cell_type": "code",
   "execution_count": 11,
   "id": "affdf5fe",
   "metadata": {},
   "outputs": [],
   "source": [
    "data['Мотор багтаамж'] = data['Мотор багтаамж'].str.replace(' л', '')"
   ]
  },
  {
   "cell_type": "code",
   "execution_count": 12,
   "id": "e28d4e90",
   "metadata": {},
   "outputs": [],
   "source": [
    "data['Price'] = data['Price'].str.replace('сая ₮', '')"
   ]
  },
  {
   "cell_type": "code",
   "execution_count": 13,
   "id": "41075b78",
   "metadata": {},
   "outputs": [],
   "source": [
    "data['Мотор багтаамж'] = data['Мотор багтаамж'].replace('Цахилгаан', '0')\n",
    "data['Мотор багтаамж'] = pd.to_numeric(data['Мотор багтаамж'])"
   ]
  },
  {
   "cell_type": "code",
   "execution_count": 14,
   "id": "0fa001fc",
   "metadata": {},
   "outputs": [
    {
     "data": {
      "text/plain": [
       "1.8    1894\n",
       "1.5    1855\n",
       "2.4    1243\n",
       "2.5    1239\n",
       "2.0    1205\n",
       "3.5    1103\n",
       "2.7     539\n",
       "4.0     429\n",
       "3.3     381\n",
       "3.0     342\n",
       "1.3     193\n",
       "4.5     191\n",
       "5.7     190\n",
       "4.7     181\n",
       "1.6     122\n",
       "0.0     120\n",
       "3.4     118\n",
       "2.3     113\n",
       "1.7     111\n",
       "1.9     109\n",
       "1.4     103\n",
       "3.6      99\n",
       "4.6      81\n",
       "0.4      69\n",
       "6.0      66\n",
       "2.2      58\n",
       "2.8      58\n",
       "3.2      58\n",
       "4.2      55\n",
       "5.0      54\n",
       "4.4      53\n",
       "5.6      45\n",
       "1.2      42\n",
       "0.6      35\n",
       "2.9      33\n",
       "5.5      30\n",
       "4.8      29\n",
       "0.5      27\n",
       "2.6      27\n",
       "4.1      22\n",
       "1.0      21\n",
       "2.1      18\n",
       "0.8      17\n",
       "3.9      14\n",
       "3.7      13\n",
       "5.4      12\n",
       "0.7      12\n",
       "5.3      12\n",
       "1.1      10\n",
       "3.1       9\n",
       "3.8       8\n",
       "4.9       7\n",
       "4.3       7\n",
       "5.8       5\n",
       "0.9       5\n",
       "5.9       3\n",
       "5.1       2\n",
       "5.2       2\n",
       "Name: Мотор багтаамж, dtype: int64"
      ]
     },
     "execution_count": 14,
     "metadata": {},
     "output_type": "execute_result"
    }
   ],
   "source": [
    "data[\"Мотор багтаамж\"].value_counts()"
   ]
  },
  {
   "cell_type": "code",
   "execution_count": 15,
   "id": "7ad2733f",
   "metadata": {},
   "outputs": [
    {
     "data": {
      "text/html": [
       "<div>\n",
       "<style scoped>\n",
       "    .dataframe tbody tr th:only-of-type {\n",
       "        vertical-align: middle;\n",
       "    }\n",
       "\n",
       "    .dataframe tbody tr th {\n",
       "        vertical-align: top;\n",
       "    }\n",
       "\n",
       "    .dataframe thead th {\n",
       "        text-align: right;\n",
       "    }\n",
       "</style>\n",
       "<table border=\"1\" class=\"dataframe\">\n",
       "  <thead>\n",
       "    <tr style=\"text-align: right;\">\n",
       "      <th></th>\n",
       "      <th>Brand</th>\n",
       "      <th>Model</th>\n",
       "      <th>Year Made</th>\n",
       "      <th>Imported Year</th>\n",
       "      <th>Price</th>\n",
       "      <th>Odometer</th>\n",
       "      <th>Мотор багтаамж</th>\n",
       "      <th>Хурдны хайрцаг</th>\n",
       "      <th>Хүрд</th>\n",
       "      <th>Төрөл</th>\n",
       "      <th>Өнгө</th>\n",
       "      <th>Үйлдвэрлэсэн он</th>\n",
       "      <th>Орж ирсэн он</th>\n",
       "      <th>Хөдөлгүүр</th>\n",
       "      <th>Дотор өнгө</th>\n",
       "      <th>Лизинг</th>\n",
       "      <th>Хөтлөгч</th>\n",
       "      <th>Нөхцөл</th>\n",
       "      <th>Хаалга</th>\n",
       "    </tr>\n",
       "  </thead>\n",
       "  <tbody>\n",
       "    <tr>\n",
       "      <th>0</th>\n",
       "      <td>Toyota</td>\n",
       "      <td>Prius 30</td>\n",
       "      <td>2015</td>\n",
       "      <td>2023</td>\n",
       "      <td>5</td>\n",
       "      <td>150000</td>\n",
       "      <td>1.7</td>\n",
       "      <td>Автомат</td>\n",
       "      <td>Буруу</td>\n",
       "      <td>Суудлын тэрэг</td>\n",
       "      <td>Саарал</td>\n",
       "      <td>2015</td>\n",
       "      <td>2023</td>\n",
       "      <td>Хайбрид</td>\n",
       "      <td>Саарал</td>\n",
       "      <td>гүй</td>\n",
       "      <td>Урдаа FWD</td>\n",
       "      <td>Дугаар авсан</td>\n",
       "      <td>5</td>\n",
       "    </tr>\n",
       "    <tr>\n",
       "      <th>1</th>\n",
       "      <td>Toyota</td>\n",
       "      <td>Sai</td>\n",
       "      <td>2013</td>\n",
       "      <td>2022</td>\n",
       "      <td>5</td>\n",
       "      <td>120000</td>\n",
       "      <td>2.4</td>\n",
       "      <td>Автомат</td>\n",
       "      <td>Буруу</td>\n",
       "      <td>Суудлын тэрэг</td>\n",
       "      <td>Хар саарал</td>\n",
       "      <td>2013</td>\n",
       "      <td>2022</td>\n",
       "      <td>Хайбрид</td>\n",
       "      <td>Хар</td>\n",
       "      <td>ББСБ лизингтэй</td>\n",
       "      <td>Урдаа FWD</td>\n",
       "      <td>Дугаар авсан</td>\n",
       "      <td>4</td>\n",
       "    </tr>\n",
       "    <tr>\n",
       "      <th>2</th>\n",
       "      <td>Toyota</td>\n",
       "      <td>Land Cruiser Prado</td>\n",
       "      <td>2014</td>\n",
       "      <td>2023</td>\n",
       "      <td>92</td>\n",
       "      <td>132000</td>\n",
       "      <td>2.7</td>\n",
       "      <td>Автомат</td>\n",
       "      <td>Буруу</td>\n",
       "      <td>Жийп</td>\n",
       "      <td>Хар</td>\n",
       "      <td>2014</td>\n",
       "      <td>2023</td>\n",
       "      <td>Бензин</td>\n",
       "      <td>Хар</td>\n",
       "      <td>гүй</td>\n",
       "      <td>Бүх дугуй 4WD</td>\n",
       "      <td>Дугаар авсан</td>\n",
       "      <td>5</td>\n",
       "    </tr>\n",
       "    <tr>\n",
       "      <th>3</th>\n",
       "      <td>Toyota</td>\n",
       "      <td>Prius 30</td>\n",
       "      <td>2011</td>\n",
       "      <td>2022</td>\n",
       "      <td>20</td>\n",
       "      <td>184</td>\n",
       "      <td>1.8</td>\n",
       "      <td>Автомат</td>\n",
       "      <td>Буруу</td>\n",
       "      <td>Суудлын тэрэг</td>\n",
       "      <td>Цагаан</td>\n",
       "      <td>2011</td>\n",
       "      <td>2022</td>\n",
       "      <td>Хайбрид</td>\n",
       "      <td>Цагаан шар</td>\n",
       "      <td>гүй</td>\n",
       "      <td>Урдаа FWD</td>\n",
       "      <td>Дугаар авсан</td>\n",
       "      <td>5</td>\n",
       "    </tr>\n",
       "    <tr>\n",
       "      <th>4</th>\n",
       "      <td>Jeep</td>\n",
       "      <td>Бусад</td>\n",
       "      <td>2013</td>\n",
       "      <td>2023</td>\n",
       "      <td>5</td>\n",
       "      <td>180000</td>\n",
       "      <td>2.4</td>\n",
       "      <td>Автомат</td>\n",
       "      <td>Зөв</td>\n",
       "      <td>Жийп</td>\n",
       "      <td>Хар</td>\n",
       "      <td>2013</td>\n",
       "      <td>2023</td>\n",
       "      <td>Бензин</td>\n",
       "      <td>Хар</td>\n",
       "      <td>ББСБ лизингтэй</td>\n",
       "      <td>Бүх дугуй 4WD</td>\n",
       "      <td>Дугаар авсан</td>\n",
       "      <td>5</td>\n",
       "    </tr>\n",
       "  </tbody>\n",
       "</table>\n",
       "</div>"
      ],
      "text/plain": [
       "    Brand               Model  Year Made  Imported Year Price Odometer  \\\n",
       "0  Toyota            Prius 30       2015           2023    5    150000   \n",
       "1  Toyota                 Sai       2013           2022    5    120000   \n",
       "2  Toyota  Land Cruiser Prado       2014           2023   92    132000   \n",
       "3  Toyota            Prius 30       2011           2022   20       184   \n",
       "4    Jeep               Бусад       2013           2023    5    180000   \n",
       "\n",
       "   Мотор багтаамж Хурдны хайрцаг   Хүрд          Төрөл        Өнгө  \\\n",
       "0             1.7        Автомат  Буруу  Суудлын тэрэг      Саарал   \n",
       "1             2.4        Автомат  Буруу  Суудлын тэрэг  Хар саарал   \n",
       "2             2.7        Автомат  Буруу           Жийп         Хар   \n",
       "3             1.8        Автомат  Буруу  Суудлын тэрэг      Цагаан   \n",
       "4             2.4        Автомат    Зөв           Жийп         Хар   \n",
       "\n",
       "   Үйлдвэрлэсэн он  Орж ирсэн он Хөдөлгүүр  Дотор өнгө          Лизинг  \\\n",
       "0             2015          2023   Хайбрид      Саарал             гүй   \n",
       "1             2013          2022   Хайбрид         Хар  ББСБ лизингтэй   \n",
       "2             2014          2023    Бензин         Хар             гүй   \n",
       "3             2011          2022   Хайбрид  Цагаан шар             гүй   \n",
       "4             2013          2023    Бензин         Хар  ББСБ лизингтэй   \n",
       "\n",
       "         Хөтлөгч        Нөхцөл  Хаалга  \n",
       "0      Урдаа FWD  Дугаар авсан       5  \n",
       "1      Урдаа FWD  Дугаар авсан       4  \n",
       "2  Бүх дугуй 4WD  Дугаар авсан       5  \n",
       "3      Урдаа FWD  Дугаар авсан       5  \n",
       "4  Бүх дугуй 4WD  Дугаар авсан       5  "
      ]
     },
     "execution_count": 15,
     "metadata": {},
     "output_type": "execute_result"
    }
   ],
   "source": [
    "data.head()"
   ]
  },
  {
   "cell_type": "code",
   "execution_count": 16,
   "id": "2b3bb43e",
   "metadata": {},
   "outputs": [
    {
     "data": {
      "text/plain": [
       "Урдаа FWD        6070\n",
       "Бүх дугуй 4WD    5625\n",
       "Хойноо RWD       1204\n",
       "Name: Хөтлөгч, dtype: int64"
      ]
     },
     "execution_count": 16,
     "metadata": {},
     "output_type": "execute_result"
    }
   ],
   "source": [
    "data[\"Хөтлөгч\"].value_counts()"
   ]
  },
  {
   "cell_type": "code",
   "execution_count": 17,
   "id": "d5707a51",
   "metadata": {},
   "outputs": [
    {
     "data": {
      "text/plain": [
       "36"
      ]
     },
     "execution_count": 17,
     "metadata": {},
     "output_type": "execute_result"
    }
   ],
   "source": [
    "len(data[\"Brand\"].value_counts().unique())"
   ]
  },
  {
   "cell_type": "code",
   "execution_count": 18,
   "id": "683b54f9",
   "metadata": {},
   "outputs": [
    {
     "data": {
      "text/plain": [
       "84"
      ]
     },
     "execution_count": 18,
     "metadata": {},
     "output_type": "execute_result"
    }
   ],
   "source": [
    "len(data[\"Model\"].value_counts().unique())"
   ]
  },
  {
   "cell_type": "code",
   "execution_count": 19,
   "id": "69723e15",
   "metadata": {},
   "outputs": [
    {
     "data": {
      "text/plain": [
       "Автомат    12318\n",
       "Механик      581\n",
       "Name: Хурдны хайрцаг, dtype: int64"
      ]
     },
     "execution_count": 19,
     "metadata": {},
     "output_type": "execute_result"
    }
   ],
   "source": [
    "data[\"Хурдны хайрцаг\"].value_counts()"
   ]
  },
  {
   "cell_type": "code",
   "execution_count": 20,
   "id": "f4f609d7",
   "metadata": {},
   "outputs": [
    {
     "data": {
      "text/plain": [
       "Буруу    9408\n",
       "Зөв      3491\n",
       "Name: Хүрд, dtype: int64"
      ]
     },
     "execution_count": 20,
     "metadata": {},
     "output_type": "execute_result"
    }
   ],
   "source": [
    "data[\"Хүрд\"].value_counts()"
   ]
  },
  {
   "cell_type": "code",
   "execution_count": 345,
   "id": "d405e8e3",
   "metadata": {},
   "outputs": [
    {
     "data": {
      "text/plain": [
       "Хар              3348\n",
       "Саарал           2635\n",
       "Бусад            2569\n",
       "Цагаан           2440\n",
       "Сувдан цагаан    1268\n",
       "Хар саарал        636\n",
       "Name: Өнгө, dtype: int64"
      ]
     },
     "execution_count": 345,
     "metadata": {},
     "output_type": "execute_result"
    }
   ],
   "source": [
    "data[\"Өнгө\"].value_counts()"
   ]
  },
  {
   "cell_type": "code",
   "execution_count": 21,
   "id": "beb964af",
   "metadata": {},
   "outputs": [
    {
     "data": {
      "text/plain": [
       "Суудлын тэрэг    6656\n",
       "Жийп             4808\n",
       "Гэр бүлийн       1435\n",
       "Name: Төрөл, dtype: int64"
      ]
     },
     "execution_count": 21,
     "metadata": {},
     "output_type": "execute_result"
    }
   ],
   "source": [
    "data[\"Төрөл\"].value_counts()"
   ]
  },
  {
   "cell_type": "code",
   "execution_count": 22,
   "id": "c0b0353e",
   "metadata": {},
   "outputs": [
    {
     "data": {
      "text/plain": [
       "Бензин       7390\n",
       "Хайбрид      4322\n",
       "Дизель        981\n",
       "Газ           130\n",
       "Цахилгаан      76\n",
       "Name: Хөдөлгүүр, dtype: int64"
      ]
     },
     "execution_count": 22,
     "metadata": {},
     "output_type": "execute_result"
    }
   ],
   "source": [
    "data[\"Хөдөлгүүр\"].value_counts()"
   ]
  },
  {
   "cell_type": "code",
   "execution_count": 348,
   "id": "2e7901df",
   "metadata": {},
   "outputs": [
    {
     "data": {
      "text/plain": [
       "Хар           6263\n",
       "Саарал        2812\n",
       "Шаргал        1370\n",
       "Бусад          995\n",
       "Цагаан шар     992\n",
       "Бор            464\n",
       "Name: Дотор өнгө, dtype: int64"
      ]
     },
     "execution_count": 348,
     "metadata": {},
     "output_type": "execute_result"
    }
   ],
   "source": [
    "data[\"Дотор өнгө\"].value_counts()"
   ]
  },
  {
   "cell_type": "code",
   "execution_count": 349,
   "id": "493e7c63",
   "metadata": {},
   "outputs": [
    {
     "data": {
      "text/plain": [
       "гүй                 9628\n",
       "ББСБ лизингтэй      2397\n",
       "Банкны лизингтэй     784\n",
       "Хувь лизингтэй        87\n",
       "Name: Лизинг, dtype: int64"
      ]
     },
     "execution_count": 349,
     "metadata": {},
     "output_type": "execute_result"
    }
   ],
   "source": [
    "data[\"Лизинг\"].value_counts()"
   ]
  },
  {
   "cell_type": "code",
   "execution_count": 23,
   "id": "a0a26b9f",
   "metadata": {},
   "outputs": [
    {
     "data": {
      "text/plain": [
       "Урдаа FWD        6070\n",
       "Бүх дугуй 4WD    5625\n",
       "Хойноо RWD       1204\n",
       "Name: Хөтлөгч, dtype: int64"
      ]
     },
     "execution_count": 23,
     "metadata": {},
     "output_type": "execute_result"
    }
   ],
   "source": [
    "data[\"Хөтлөгч\"].value_counts()"
   ]
  },
  {
   "cell_type": "code",
   "execution_count": 24,
   "id": "17f34d36",
   "metadata": {},
   "outputs": [
    {
     "data": {
      "text/plain": [
       "Дугаар авсан      10907\n",
       "Дугаар аваагүй     1872\n",
       "00 гүйлттэй         120\n",
       "Name: Нөхцөл, dtype: int64"
      ]
     },
     "execution_count": 24,
     "metadata": {},
     "output_type": "execute_result"
    }
   ],
   "source": [
    "data[\"Нөхцөл\"].value_counts()"
   ]
  },
  {
   "cell_type": "code",
   "execution_count": 352,
   "id": "12fceb1d",
   "metadata": {},
   "outputs": [
    {
     "name": "stdout",
     "output_type": "stream",
     "text": [
      "<class 'pandas.core.frame.DataFrame'>\n",
      "Int64Index: 12896 entries, 0 to 12898\n",
      "Data columns (total 13 columns):\n",
      " #   Column          Non-Null Count  Dtype  \n",
      "---  ------          --------------  -----  \n",
      " 0   Brand           12896 non-null  object \n",
      " 1   Model           12895 non-null  object \n",
      " 2   Year Made       12896 non-null  int64  \n",
      " 3   Imported Year   12896 non-null  int64  \n",
      " 4   Price           12896 non-null  int64  \n",
      " 5   Odometer        12895 non-null  float64\n",
      " 6   Хурдны хайрцаг  12896 non-null  object \n",
      " 7   Хүрд            12896 non-null  object \n",
      " 8   Өнгө            12896 non-null  object \n",
      " 9   Хөдөлгүүр       12896 non-null  object \n",
      " 10  Дотор өнгө      12896 non-null  object \n",
      " 11  Лизинг          12896 non-null  object \n",
      " 12  Хөтлөгч         12896 non-null  object \n",
      "dtypes: float64(1), int64(3), object(9)\n",
      "memory usage: 1.4+ MB\n"
     ]
    }
   ],
   "source": [
    "data.info()"
   ]
  },
  {
   "cell_type": "code",
   "execution_count": 25,
   "id": "5014ed9d",
   "metadata": {},
   "outputs": [],
   "source": [
    "data = data.dropna(subset=['Price'])"
   ]
  },
  {
   "cell_type": "code",
   "execution_count": 26,
   "id": "a4401ec7",
   "metadata": {},
   "outputs": [],
   "source": [
    "data[\"Price\"] = data[\"Price\"].astype(int)"
   ]
  },
  {
   "cell_type": "code",
   "execution_count": 27,
   "id": "8d8da057",
   "metadata": {},
   "outputs": [
    {
     "data": {
      "text/plain": [
       "count      12896\n",
       "unique      1878\n",
       "top       200000\n",
       "freq         727\n",
       "Name: Odometer, dtype: object"
      ]
     },
     "execution_count": 27,
     "metadata": {},
     "output_type": "execute_result"
    }
   ],
   "source": [
    "data[\"Odometer\"].describe()"
   ]
  },
  {
   "cell_type": "code",
   "execution_count": 28,
   "id": "2f0fb106",
   "metadata": {},
   "outputs": [
    {
     "name": "stderr",
     "output_type": "stream",
     "text": [
      "/Users/bilguundavaa/anaconda3/lib/python3.11/site-packages/pandas/core/dtypes/astype.py:189: RuntimeWarning: invalid value encountered in cast\n",
      "  return values.astype(dtype, copy=copy)\n"
     ]
    }
   ],
   "source": [
    "data[\"Odometer\"] = data[\"Odometer\"].astype(float).astype(int)"
   ]
  },
  {
   "cell_type": "code",
   "execution_count": 29,
   "id": "09c4e54b",
   "metadata": {},
   "outputs": [
    {
     "name": "stdout",
     "output_type": "stream",
     "text": [
      "<class 'pandas.core.frame.DataFrame'>\n",
      "Int64Index: 12896 entries, 0 to 12898\n",
      "Data columns (total 19 columns):\n",
      " #   Column           Non-Null Count  Dtype  \n",
      "---  ------           --------------  -----  \n",
      " 0   Brand            12896 non-null  object \n",
      " 1   Model            12895 non-null  object \n",
      " 2   Year Made        12896 non-null  int64  \n",
      " 3   Imported Year    12896 non-null  int64  \n",
      " 4   Price            12896 non-null  int64  \n",
      " 5   Odometer         12896 non-null  int64  \n",
      " 6   Мотор багтаамж   12896 non-null  float64\n",
      " 7   Хурдны хайрцаг   12896 non-null  object \n",
      " 8   Хүрд             12896 non-null  object \n",
      " 9   Төрөл            12896 non-null  object \n",
      " 10  Өнгө             12896 non-null  object \n",
      " 11  Үйлдвэрлэсэн он  12896 non-null  int64  \n",
      " 12  Орж ирсэн он     12896 non-null  int64  \n",
      " 13  Хөдөлгүүр        12896 non-null  object \n",
      " 14  Дотор өнгө       12896 non-null  object \n",
      " 15  Лизинг           12896 non-null  object \n",
      " 16  Хөтлөгч          12896 non-null  object \n",
      " 17  Нөхцөл           12896 non-null  object \n",
      " 18  Хаалга           12896 non-null  int64  \n",
      "dtypes: float64(1), int64(7), object(11)\n",
      "memory usage: 2.0+ MB\n"
     ]
    }
   ],
   "source": [
    "data.info()"
   ]
  },
  {
   "cell_type": "code",
   "execution_count": 37,
   "id": "e733dea9",
   "metadata": {},
   "outputs": [],
   "source": [
    "def update_odometer(df):\n",
    "    def get_median_odometer(row):\n",
    "        condition = (\n",
    "            (df['Model'] == row['Model']) &\n",
    "            (df['Brand'] == row['Brand']) &\n",
    "            (df['Year Made'] == row['Year Made'])\n",
    "        )\n",
    "        median_value = df.loc[condition, 'Odometer'].median()\n",
    "        return median_value\n",
    "\n",
    "    df['Odometer'] = df.apply(\n",
    "        lambda row: get_median_odometer(row) if row['Year Made'] < 2022 and row['Odometer'] < 1000 else row['Odometer'],\n",
    "        axis=1\n",
    "    )\n",
    "    return df\n",
    "\n",
    "data = update_odometer(data)"
   ]
  },
  {
   "cell_type": "code",
   "execution_count": 38,
   "id": "2c7eb8dc",
   "metadata": {},
   "outputs": [
    {
     "ename": "KeyError",
     "evalue": "\"['Орж ирсэн он', 'Үйлдвэрлэсэн он'] not found in axis\"",
     "output_type": "error",
     "traceback": [
      "\u001b[0;31m---------------------------------------------------------------------------\u001b[0m",
      "\u001b[0;31mKeyError\u001b[0m                                  Traceback (most recent call last)",
      "Cell \u001b[0;32mIn[38], line 1\u001b[0m\n\u001b[0;32m----> 1\u001b[0m data \u001b[38;5;241m=\u001b[39m data\u001b[38;5;241m.\u001b[39mdrop(columns\u001b[38;5;241m=\u001b[39m[\u001b[38;5;124m\"\u001b[39m\u001b[38;5;124mОрж ирсэн он\u001b[39m\u001b[38;5;124m\"\u001b[39m, \u001b[38;5;124m\"\u001b[39m\u001b[38;5;124mҮйлдвэрлэсэн он\u001b[39m\u001b[38;5;124m\"\u001b[39m])\n",
      "File \u001b[0;32m~/anaconda3/lib/python3.11/site-packages/pandas/util/_decorators.py:331\u001b[0m, in \u001b[0;36mdeprecate_nonkeyword_arguments.<locals>.decorate.<locals>.wrapper\u001b[0;34m(*args, **kwargs)\u001b[0m\n\u001b[1;32m    325\u001b[0m \u001b[38;5;28;01mif\u001b[39;00m \u001b[38;5;28mlen\u001b[39m(args) \u001b[38;5;241m>\u001b[39m num_allow_args:\n\u001b[1;32m    326\u001b[0m     warnings\u001b[38;5;241m.\u001b[39mwarn(\n\u001b[1;32m    327\u001b[0m         msg\u001b[38;5;241m.\u001b[39mformat(arguments\u001b[38;5;241m=\u001b[39m_format_argument_list(allow_args)),\n\u001b[1;32m    328\u001b[0m         \u001b[38;5;167;01mFutureWarning\u001b[39;00m,\n\u001b[1;32m    329\u001b[0m         stacklevel\u001b[38;5;241m=\u001b[39mfind_stack_level(),\n\u001b[1;32m    330\u001b[0m     )\n\u001b[0;32m--> 331\u001b[0m \u001b[38;5;28;01mreturn\u001b[39;00m func(\u001b[38;5;241m*\u001b[39margs, \u001b[38;5;241m*\u001b[39m\u001b[38;5;241m*\u001b[39mkwargs)\n",
      "File \u001b[0;32m~/anaconda3/lib/python3.11/site-packages/pandas/core/frame.py:5399\u001b[0m, in \u001b[0;36mDataFrame.drop\u001b[0;34m(self, labels, axis, index, columns, level, inplace, errors)\u001b[0m\n\u001b[1;32m   5251\u001b[0m \u001b[38;5;129m@deprecate_nonkeyword_arguments\u001b[39m(version\u001b[38;5;241m=\u001b[39m\u001b[38;5;28;01mNone\u001b[39;00m, allowed_args\u001b[38;5;241m=\u001b[39m[\u001b[38;5;124m\"\u001b[39m\u001b[38;5;124mself\u001b[39m\u001b[38;5;124m\"\u001b[39m, \u001b[38;5;124m\"\u001b[39m\u001b[38;5;124mlabels\u001b[39m\u001b[38;5;124m\"\u001b[39m])\n\u001b[1;32m   5252\u001b[0m \u001b[38;5;28;01mdef\u001b[39;00m \u001b[38;5;21mdrop\u001b[39m(  \u001b[38;5;66;03m# type: ignore[override]\u001b[39;00m\n\u001b[1;32m   5253\u001b[0m     \u001b[38;5;28mself\u001b[39m,\n\u001b[0;32m   (...)\u001b[0m\n\u001b[1;32m   5260\u001b[0m     errors: IgnoreRaise \u001b[38;5;241m=\u001b[39m \u001b[38;5;124m\"\u001b[39m\u001b[38;5;124mraise\u001b[39m\u001b[38;5;124m\"\u001b[39m,\n\u001b[1;32m   5261\u001b[0m ) \u001b[38;5;241m-\u001b[39m\u001b[38;5;241m>\u001b[39m DataFrame \u001b[38;5;241m|\u001b[39m \u001b[38;5;28;01mNone\u001b[39;00m:\n\u001b[1;32m   5262\u001b[0m \u001b[38;5;250m    \u001b[39m\u001b[38;5;124;03m\"\"\"\u001b[39;00m\n\u001b[1;32m   5263\u001b[0m \u001b[38;5;124;03m    Drop specified labels from rows or columns.\u001b[39;00m\n\u001b[1;32m   5264\u001b[0m \n\u001b[0;32m   (...)\u001b[0m\n\u001b[1;32m   5397\u001b[0m \u001b[38;5;124;03m            weight  1.0     0.8\u001b[39;00m\n\u001b[1;32m   5398\u001b[0m \u001b[38;5;124;03m    \"\"\"\u001b[39;00m\n\u001b[0;32m-> 5399\u001b[0m     \u001b[38;5;28;01mreturn\u001b[39;00m \u001b[38;5;28msuper\u001b[39m()\u001b[38;5;241m.\u001b[39mdrop(\n\u001b[1;32m   5400\u001b[0m         labels\u001b[38;5;241m=\u001b[39mlabels,\n\u001b[1;32m   5401\u001b[0m         axis\u001b[38;5;241m=\u001b[39maxis,\n\u001b[1;32m   5402\u001b[0m         index\u001b[38;5;241m=\u001b[39mindex,\n\u001b[1;32m   5403\u001b[0m         columns\u001b[38;5;241m=\u001b[39mcolumns,\n\u001b[1;32m   5404\u001b[0m         level\u001b[38;5;241m=\u001b[39mlevel,\n\u001b[1;32m   5405\u001b[0m         inplace\u001b[38;5;241m=\u001b[39minplace,\n\u001b[1;32m   5406\u001b[0m         errors\u001b[38;5;241m=\u001b[39merrors,\n\u001b[1;32m   5407\u001b[0m     )\n",
      "File \u001b[0;32m~/anaconda3/lib/python3.11/site-packages/pandas/util/_decorators.py:331\u001b[0m, in \u001b[0;36mdeprecate_nonkeyword_arguments.<locals>.decorate.<locals>.wrapper\u001b[0;34m(*args, **kwargs)\u001b[0m\n\u001b[1;32m    325\u001b[0m \u001b[38;5;28;01mif\u001b[39;00m \u001b[38;5;28mlen\u001b[39m(args) \u001b[38;5;241m>\u001b[39m num_allow_args:\n\u001b[1;32m    326\u001b[0m     warnings\u001b[38;5;241m.\u001b[39mwarn(\n\u001b[1;32m    327\u001b[0m         msg\u001b[38;5;241m.\u001b[39mformat(arguments\u001b[38;5;241m=\u001b[39m_format_argument_list(allow_args)),\n\u001b[1;32m    328\u001b[0m         \u001b[38;5;167;01mFutureWarning\u001b[39;00m,\n\u001b[1;32m    329\u001b[0m         stacklevel\u001b[38;5;241m=\u001b[39mfind_stack_level(),\n\u001b[1;32m    330\u001b[0m     )\n\u001b[0;32m--> 331\u001b[0m \u001b[38;5;28;01mreturn\u001b[39;00m func(\u001b[38;5;241m*\u001b[39margs, \u001b[38;5;241m*\u001b[39m\u001b[38;5;241m*\u001b[39mkwargs)\n",
      "File \u001b[0;32m~/anaconda3/lib/python3.11/site-packages/pandas/core/generic.py:4505\u001b[0m, in \u001b[0;36mNDFrame.drop\u001b[0;34m(self, labels, axis, index, columns, level, inplace, errors)\u001b[0m\n\u001b[1;32m   4503\u001b[0m \u001b[38;5;28;01mfor\u001b[39;00m axis, labels \u001b[38;5;129;01min\u001b[39;00m axes\u001b[38;5;241m.\u001b[39mitems():\n\u001b[1;32m   4504\u001b[0m     \u001b[38;5;28;01mif\u001b[39;00m labels \u001b[38;5;129;01mis\u001b[39;00m \u001b[38;5;129;01mnot\u001b[39;00m \u001b[38;5;28;01mNone\u001b[39;00m:\n\u001b[0;32m-> 4505\u001b[0m         obj \u001b[38;5;241m=\u001b[39m obj\u001b[38;5;241m.\u001b[39m_drop_axis(labels, axis, level\u001b[38;5;241m=\u001b[39mlevel, errors\u001b[38;5;241m=\u001b[39merrors)\n\u001b[1;32m   4507\u001b[0m \u001b[38;5;28;01mif\u001b[39;00m inplace:\n\u001b[1;32m   4508\u001b[0m     \u001b[38;5;28mself\u001b[39m\u001b[38;5;241m.\u001b[39m_update_inplace(obj)\n",
      "File \u001b[0;32m~/anaconda3/lib/python3.11/site-packages/pandas/core/generic.py:4546\u001b[0m, in \u001b[0;36mNDFrame._drop_axis\u001b[0;34m(self, labels, axis, level, errors, only_slice)\u001b[0m\n\u001b[1;32m   4544\u001b[0m         new_axis \u001b[38;5;241m=\u001b[39m axis\u001b[38;5;241m.\u001b[39mdrop(labels, level\u001b[38;5;241m=\u001b[39mlevel, errors\u001b[38;5;241m=\u001b[39merrors)\n\u001b[1;32m   4545\u001b[0m     \u001b[38;5;28;01melse\u001b[39;00m:\n\u001b[0;32m-> 4546\u001b[0m         new_axis \u001b[38;5;241m=\u001b[39m axis\u001b[38;5;241m.\u001b[39mdrop(labels, errors\u001b[38;5;241m=\u001b[39merrors)\n\u001b[1;32m   4547\u001b[0m     indexer \u001b[38;5;241m=\u001b[39m axis\u001b[38;5;241m.\u001b[39mget_indexer(new_axis)\n\u001b[1;32m   4549\u001b[0m \u001b[38;5;66;03m# Case for non-unique axis\u001b[39;00m\n\u001b[1;32m   4550\u001b[0m \u001b[38;5;28;01melse\u001b[39;00m:\n",
      "File \u001b[0;32m~/anaconda3/lib/python3.11/site-packages/pandas/core/indexes/base.py:6934\u001b[0m, in \u001b[0;36mIndex.drop\u001b[0;34m(self, labels, errors)\u001b[0m\n\u001b[1;32m   6932\u001b[0m \u001b[38;5;28;01mif\u001b[39;00m mask\u001b[38;5;241m.\u001b[39many():\n\u001b[1;32m   6933\u001b[0m     \u001b[38;5;28;01mif\u001b[39;00m errors \u001b[38;5;241m!=\u001b[39m \u001b[38;5;124m\"\u001b[39m\u001b[38;5;124mignore\u001b[39m\u001b[38;5;124m\"\u001b[39m:\n\u001b[0;32m-> 6934\u001b[0m         \u001b[38;5;28;01mraise\u001b[39;00m \u001b[38;5;167;01mKeyError\u001b[39;00m(\u001b[38;5;124mf\u001b[39m\u001b[38;5;124m\"\u001b[39m\u001b[38;5;132;01m{\u001b[39;00m\u001b[38;5;28mlist\u001b[39m(labels[mask])\u001b[38;5;132;01m}\u001b[39;00m\u001b[38;5;124m not found in axis\u001b[39m\u001b[38;5;124m\"\u001b[39m)\n\u001b[1;32m   6935\u001b[0m     indexer \u001b[38;5;241m=\u001b[39m indexer[\u001b[38;5;241m~\u001b[39mmask]\n\u001b[1;32m   6936\u001b[0m \u001b[38;5;28;01mreturn\u001b[39;00m \u001b[38;5;28mself\u001b[39m\u001b[38;5;241m.\u001b[39mdelete(indexer)\n",
      "\u001b[0;31mKeyError\u001b[0m: \"['Орж ирсэн он', 'Үйлдвэрлэсэн он'] not found in axis\""
     ]
    }
   ],
   "source": [
    "data = data.drop(columns=[\"Орж ирсэн он\", \"Үйлдвэрлэсэн он\"])"
   ]
  },
  {
   "cell_type": "code",
   "execution_count": 39,
   "id": "bf828dd8",
   "metadata": {},
   "outputs": [],
   "source": [
    "df_encoded = pd.get_dummies(data, columns=['Өнгө', 'Нөхцөл', 'Model', 'Brand', 'Лизинг', 'Хөдөлгүүр', 'Хүрд', 'Хурдны хайрцаг', 'Дотор өнгө', 'Төрөл', 'Хөтлөгч'])\n"
   ]
  },
  {
   "cell_type": "code",
   "execution_count": 40,
   "id": "1edb1465",
   "metadata": {},
   "outputs": [
    {
     "data": {
      "text/plain": [
       "(12896, 465)"
      ]
     },
     "execution_count": 40,
     "metadata": {},
     "output_type": "execute_result"
    }
   ],
   "source": [
    "df_encoded.shape"
   ]
  },
  {
   "cell_type": "code",
   "execution_count": 41,
   "id": "724787e4",
   "metadata": {},
   "outputs": [
    {
     "data": {
      "text/html": [
       "<div>\n",
       "<style scoped>\n",
       "    .dataframe tbody tr th:only-of-type {\n",
       "        vertical-align: middle;\n",
       "    }\n",
       "\n",
       "    .dataframe tbody tr th {\n",
       "        vertical-align: top;\n",
       "    }\n",
       "\n",
       "    .dataframe thead th {\n",
       "        text-align: right;\n",
       "    }\n",
       "</style>\n",
       "<table border=\"1\" class=\"dataframe\">\n",
       "  <thead>\n",
       "    <tr style=\"text-align: right;\">\n",
       "      <th></th>\n",
       "      <th>Year Made</th>\n",
       "      <th>Imported Year</th>\n",
       "      <th>Price</th>\n",
       "      <th>Odometer</th>\n",
       "      <th>Мотор багтаамж</th>\n",
       "      <th>Хаалга</th>\n",
       "      <th>odometer</th>\n",
       "      <th>Өнгө_Бор</th>\n",
       "      <th>Өнгө_Боронзон</th>\n",
       "      <th>Өнгө_Бусад</th>\n",
       "      <th>...</th>\n",
       "      <th>Дотор өнгө_Саарал</th>\n",
       "      <th>Дотор өнгө_Хар</th>\n",
       "      <th>Дотор өнгө_Цагаан шар</th>\n",
       "      <th>Дотор өнгө_Шаргал</th>\n",
       "      <th>Төрөл_Гэр бүлийн</th>\n",
       "      <th>Төрөл_Жийп</th>\n",
       "      <th>Төрөл_Суудлын тэрэг</th>\n",
       "      <th>Хөтлөгч_Бүх дугуй 4WD</th>\n",
       "      <th>Хөтлөгч_Урдаа FWD</th>\n",
       "      <th>Хөтлөгч_Хойноо RWD</th>\n",
       "    </tr>\n",
       "  </thead>\n",
       "  <tbody>\n",
       "    <tr>\n",
       "      <th>count</th>\n",
       "      <td>12896.000000</td>\n",
       "      <td>12896.000000</td>\n",
       "      <td>12896.000000</td>\n",
       "      <td>1.289500e+04</td>\n",
       "      <td>12896.000000</td>\n",
       "      <td>12896.000000</td>\n",
       "      <td>1.289500e+04</td>\n",
       "      <td>12896.000000</td>\n",
       "      <td>12896.000000</td>\n",
       "      <td>12896.000000</td>\n",
       "      <td>...</td>\n",
       "      <td>12896.000000</td>\n",
       "      <td>12896.000000</td>\n",
       "      <td>12896.000000</td>\n",
       "      <td>12896.000000</td>\n",
       "      <td>12896.000000</td>\n",
       "      <td>12896.000000</td>\n",
       "      <td>12896.000000</td>\n",
       "      <td>12896.000000</td>\n",
       "      <td>12896.000000</td>\n",
       "      <td>12896.000000</td>\n",
       "    </tr>\n",
       "    <tr>\n",
       "      <th>mean</th>\n",
       "      <td>2011.820797</td>\n",
       "      <td>2019.709522</td>\n",
       "      <td>47.647565</td>\n",
       "      <td>7.930435e+14</td>\n",
       "      <td>2.497139</td>\n",
       "      <td>4.696728</td>\n",
       "      <td>7.930435e+14</td>\n",
       "      <td>0.010158</td>\n",
       "      <td>0.010546</td>\n",
       "      <td>0.026132</td>\n",
       "      <td>...</td>\n",
       "      <td>0.218052</td>\n",
       "      <td>0.485654</td>\n",
       "      <td>0.076923</td>\n",
       "      <td>0.106234</td>\n",
       "      <td>0.111275</td>\n",
       "      <td>0.372674</td>\n",
       "      <td>0.516051</td>\n",
       "      <td>0.436027</td>\n",
       "      <td>0.470611</td>\n",
       "      <td>0.093362</td>\n",
       "    </tr>\n",
       "    <tr>\n",
       "      <th>std</th>\n",
       "      <td>5.050723</td>\n",
       "      <td>4.281034</td>\n",
       "      <td>70.428328</td>\n",
       "      <td>8.169832e+16</td>\n",
       "      <td>1.067565</td>\n",
       "      <td>0.537461</td>\n",
       "      <td>8.169832e+16</td>\n",
       "      <td>0.100279</td>\n",
       "      <td>0.102154</td>\n",
       "      <td>0.159534</td>\n",
       "      <td>...</td>\n",
       "      <td>0.412939</td>\n",
       "      <td>0.499814</td>\n",
       "      <td>0.266480</td>\n",
       "      <td>0.308149</td>\n",
       "      <td>0.314484</td>\n",
       "      <td>0.483535</td>\n",
       "      <td>0.499762</td>\n",
       "      <td>0.495910</td>\n",
       "      <td>0.499155</td>\n",
       "      <td>0.290951</td>\n",
       "    </tr>\n",
       "    <tr>\n",
       "      <th>min</th>\n",
       "      <td>1980.000000</td>\n",
       "      <td>1980.000000</td>\n",
       "      <td>1.000000</td>\n",
       "      <td>0.000000e+00</td>\n",
       "      <td>0.000000</td>\n",
       "      <td>2.000000</td>\n",
       "      <td>0.000000e+00</td>\n",
       "      <td>0.000000</td>\n",
       "      <td>0.000000</td>\n",
       "      <td>0.000000</td>\n",
       "      <td>...</td>\n",
       "      <td>0.000000</td>\n",
       "      <td>0.000000</td>\n",
       "      <td>0.000000</td>\n",
       "      <td>0.000000</td>\n",
       "      <td>0.000000</td>\n",
       "      <td>0.000000</td>\n",
       "      <td>0.000000</td>\n",
       "      <td>0.000000</td>\n",
       "      <td>0.000000</td>\n",
       "      <td>0.000000</td>\n",
       "    </tr>\n",
       "    <tr>\n",
       "      <th>25%</th>\n",
       "      <td>2009.000000</td>\n",
       "      <td>2018.000000</td>\n",
       "      <td>8.000000</td>\n",
       "      <td>1.000000e+05</td>\n",
       "      <td>1.800000</td>\n",
       "      <td>4.000000</td>\n",
       "      <td>1.000000e+05</td>\n",
       "      <td>0.000000</td>\n",
       "      <td>0.000000</td>\n",
       "      <td>0.000000</td>\n",
       "      <td>...</td>\n",
       "      <td>0.000000</td>\n",
       "      <td>0.000000</td>\n",
       "      <td>0.000000</td>\n",
       "      <td>0.000000</td>\n",
       "      <td>0.000000</td>\n",
       "      <td>0.000000</td>\n",
       "      <td>0.000000</td>\n",
       "      <td>0.000000</td>\n",
       "      <td>0.000000</td>\n",
       "      <td>0.000000</td>\n",
       "    </tr>\n",
       "    <tr>\n",
       "      <th>50%</th>\n",
       "      <td>2012.000000</td>\n",
       "      <td>2021.000000</td>\n",
       "      <td>23.000000</td>\n",
       "      <td>1.500000e+05</td>\n",
       "      <td>2.400000</td>\n",
       "      <td>5.000000</td>\n",
       "      <td>1.500000e+05</td>\n",
       "      <td>0.000000</td>\n",
       "      <td>0.000000</td>\n",
       "      <td>0.000000</td>\n",
       "      <td>...</td>\n",
       "      <td>0.000000</td>\n",
       "      <td>0.000000</td>\n",
       "      <td>0.000000</td>\n",
       "      <td>0.000000</td>\n",
       "      <td>0.000000</td>\n",
       "      <td>0.000000</td>\n",
       "      <td>1.000000</td>\n",
       "      <td>0.000000</td>\n",
       "      <td>0.000000</td>\n",
       "      <td>0.000000</td>\n",
       "    </tr>\n",
       "    <tr>\n",
       "      <th>75%</th>\n",
       "      <td>2015.000000</td>\n",
       "      <td>2023.000000</td>\n",
       "      <td>55.000000</td>\n",
       "      <td>1.900000e+05</td>\n",
       "      <td>3.200000</td>\n",
       "      <td>5.000000</td>\n",
       "      <td>1.900000e+05</td>\n",
       "      <td>0.000000</td>\n",
       "      <td>0.000000</td>\n",
       "      <td>0.000000</td>\n",
       "      <td>...</td>\n",
       "      <td>0.000000</td>\n",
       "      <td>1.000000</td>\n",
       "      <td>0.000000</td>\n",
       "      <td>0.000000</td>\n",
       "      <td>0.000000</td>\n",
       "      <td>1.000000</td>\n",
       "      <td>1.000000</td>\n",
       "      <td>1.000000</td>\n",
       "      <td>1.000000</td>\n",
       "      <td>0.000000</td>\n",
       "    </tr>\n",
       "    <tr>\n",
       "      <th>max</th>\n",
       "      <td>2024.000000</td>\n",
       "      <td>2024.000000</td>\n",
       "      <td>675.000000</td>\n",
       "      <td>9.223372e+18</td>\n",
       "      <td>6.000000</td>\n",
       "      <td>6.000000</td>\n",
       "      <td>9.223372e+18</td>\n",
       "      <td>1.000000</td>\n",
       "      <td>1.000000</td>\n",
       "      <td>1.000000</td>\n",
       "      <td>...</td>\n",
       "      <td>1.000000</td>\n",
       "      <td>1.000000</td>\n",
       "      <td>1.000000</td>\n",
       "      <td>1.000000</td>\n",
       "      <td>1.000000</td>\n",
       "      <td>1.000000</td>\n",
       "      <td>1.000000</td>\n",
       "      <td>1.000000</td>\n",
       "      <td>1.000000</td>\n",
       "      <td>1.000000</td>\n",
       "    </tr>\n",
       "  </tbody>\n",
       "</table>\n",
       "<p>8 rows × 465 columns</p>\n",
       "</div>"
      ],
      "text/plain": [
       "          Year Made  Imported Year         Price      Odometer  \\\n",
       "count  12896.000000   12896.000000  12896.000000  1.289500e+04   \n",
       "mean    2011.820797    2019.709522     47.647565  7.930435e+14   \n",
       "std        5.050723       4.281034     70.428328  8.169832e+16   \n",
       "min     1980.000000    1980.000000      1.000000  0.000000e+00   \n",
       "25%     2009.000000    2018.000000      8.000000  1.000000e+05   \n",
       "50%     2012.000000    2021.000000     23.000000  1.500000e+05   \n",
       "75%     2015.000000    2023.000000     55.000000  1.900000e+05   \n",
       "max     2024.000000    2024.000000    675.000000  9.223372e+18   \n",
       "\n",
       "       Мотор багтаамж        Хаалга      odometer      Өнгө_Бор  \\\n",
       "count    12896.000000  12896.000000  1.289500e+04  12896.000000   \n",
       "mean         2.497139      4.696728  7.930435e+14      0.010158   \n",
       "std          1.067565      0.537461  8.169832e+16      0.100279   \n",
       "min          0.000000      2.000000  0.000000e+00      0.000000   \n",
       "25%          1.800000      4.000000  1.000000e+05      0.000000   \n",
       "50%          2.400000      5.000000  1.500000e+05      0.000000   \n",
       "75%          3.200000      5.000000  1.900000e+05      0.000000   \n",
       "max          6.000000      6.000000  9.223372e+18      1.000000   \n",
       "\n",
       "       Өнгө_Боронзон    Өнгө_Бусад  ...  Дотор өнгө_Саарал  Дотор өнгө_Хар  \\\n",
       "count   12896.000000  12896.000000  ...       12896.000000    12896.000000   \n",
       "mean        0.010546      0.026132  ...           0.218052        0.485654   \n",
       "std         0.102154      0.159534  ...           0.412939        0.499814   \n",
       "min         0.000000      0.000000  ...           0.000000        0.000000   \n",
       "25%         0.000000      0.000000  ...           0.000000        0.000000   \n",
       "50%         0.000000      0.000000  ...           0.000000        0.000000   \n",
       "75%         0.000000      0.000000  ...           0.000000        1.000000   \n",
       "max         1.000000      1.000000  ...           1.000000        1.000000   \n",
       "\n",
       "       Дотор өнгө_Цагаан шар  Дотор өнгө_Шаргал  Төрөл_Гэр бүлийн  \\\n",
       "count           12896.000000       12896.000000      12896.000000   \n",
       "mean                0.076923           0.106234          0.111275   \n",
       "std                 0.266480           0.308149          0.314484   \n",
       "min                 0.000000           0.000000          0.000000   \n",
       "25%                 0.000000           0.000000          0.000000   \n",
       "50%                 0.000000           0.000000          0.000000   \n",
       "75%                 0.000000           0.000000          0.000000   \n",
       "max                 1.000000           1.000000          1.000000   \n",
       "\n",
       "         Төрөл_Жийп  Төрөл_Суудлын тэрэг  Хөтлөгч_Бүх дугуй 4WD  \\\n",
       "count  12896.000000         12896.000000           12896.000000   \n",
       "mean       0.372674             0.516051               0.436027   \n",
       "std        0.483535             0.499762               0.495910   \n",
       "min        0.000000             0.000000               0.000000   \n",
       "25%        0.000000             0.000000               0.000000   \n",
       "50%        0.000000             1.000000               0.000000   \n",
       "75%        1.000000             1.000000               1.000000   \n",
       "max        1.000000             1.000000               1.000000   \n",
       "\n",
       "       Хөтлөгч_Урдаа FWD  Хөтлөгч_Хойноо RWD  \n",
       "count       12896.000000        12896.000000  \n",
       "mean            0.470611            0.093362  \n",
       "std             0.499155            0.290951  \n",
       "min             0.000000            0.000000  \n",
       "25%             0.000000            0.000000  \n",
       "50%             0.000000            0.000000  \n",
       "75%             1.000000            0.000000  \n",
       "max             1.000000            1.000000  \n",
       "\n",
       "[8 rows x 465 columns]"
      ]
     },
     "execution_count": 41,
     "metadata": {},
     "output_type": "execute_result"
    }
   ],
   "source": [
    "df_encoded.describe()"
   ]
  },
  {
   "cell_type": "code",
   "execution_count": 35,
   "id": "f558a9df",
   "metadata": {},
   "outputs": [
    {
     "name": "stdout",
     "output_type": "stream",
     "text": [
      "<class 'pandas.core.frame.DataFrame'>\n",
      "Int64Index: 12896 entries, 0 to 12898\n",
      "Columns: 465 entries, Year Made to Хөтлөгч_Хойноо RWD\n",
      "dtypes: float64(2), int64(5), uint8(458)\n",
      "memory usage: 6.4 MB\n"
     ]
    }
   ],
   "source": [
    "df_encoded.info()"
   ]
  },
  {
   "cell_type": "code",
   "execution_count": 36,
   "id": "34ce9c3a",
   "metadata": {},
   "outputs": [
    {
     "data": {
      "image/png": "[encoded data removed]",
      "text/plain": [
       "<Figure size 2000x1500 with 9 Axes>"
      ]
     },
     "metadata": {},
     "output_type": "display_data"
    }
   ],
   "source": [
    "%matplotlib inline\n",
    "data.hist(bins=50, figsize=(20,15))\n",
    "plt.show()"
   ]
  },
  {
   "cell_type": "code",
   "execution_count": 364,
   "id": "5459cb45",
   "metadata": {},
   "outputs": [
    {
     "name": "stdout",
     "output_type": "stream",
     "text": [
      "10316 train + 2580 test\n"
     ]
    }
   ],
   "source": [
    "from sklearn.model_selection import train_test_split\n",
    "\n",
    "X = df_encoded.drop('Price', axis=1)\n",
    "y = df_encoded['Price']\n",
    "X_train, X_test, y_train, y_test = train_test_split(X, y, test_size=0.2, random_state=42)\n",
    "print(len(X_train), \"train +\", len(X_test), \"test\")\n"
   ]
  },
  {
   "cell_type": "code",
   "execution_count": 366,
   "id": "d88db1ca",
   "metadata": {},
   "outputs": [
    {
     "name": "stdout",
     "output_type": "stream",
     "text": [
      "Best parameters found:  {'learning_rate': 0.1, 'max_depth': 9, 'n_estimators': 200, 'reg_alpha': 1.0, 'reg_lambda': 2.0}\n",
      "Best RMSE: 24.81664103025278\n"
     ]
    }
   ],
   "source": [
    "from sklearn.model_selection import GridSearchCV\n",
    "from xgboost import XGBRegressor\n",
    "\n",
    "param_grid = {\n",
    "    'n_estimators': [100, 200],\n",
    "    'learning_rate': [0.01, 0.1],\n",
    "    'max_depth': [3, 6, 9],\n",
    "    'reg_alpha': [0.0, 0.1, 1.0],\n",
    "    'reg_lambda': [1.0, 1.5, 2.0]\n",
    "}\n",
    "\n",
    "xgb = XGBRegressor(objective='reg:squarederror', random_state=42)\n",
    "\n",
    "grid_search = GridSearchCV(estimator=xgb, param_grid=param_grid, cv=5, scoring='neg_mean_squared_error')\n",
    "grid_search.fit(X_train, y_train)\n",
    "\n",
    "print(\"Best parameters found: \", grid_search.best_params_)\n",
    "\n",
    "best_model = grid_search.best_estimator_\n",
    "\n",
    "y_pred = best_model.predict(X_test)\n",
    "rmse_best = np.sqrt(mean_squared_error(y_test, y_pred))\n",
    "print('Best RMSE:', rmse_best)"
   ]
  },
  {
   "cell_type": "code",
   "execution_count": 188,
   "id": "6df72540",
   "metadata": {},
   "outputs": [
    {
     "data": {
      "text/plain": [
       "['car_price_model.pkl']"
      ]
     },
     "execution_count": 188,
     "metadata": {},
     "output_type": "execute_result"
    }
   ],
   "source": [
    "import joblib\n",
    "joblib.dump(best_model, 'car_price_model.pkl')"
   ]
  },
  {
   "cell_type": "code",
   "execution_count": null,
   "id": "2f231b95",
   "metadata": {},
   "outputs": [],
   "source": []
  }
 ],
 "metadata": {
  "kernelspec": {
   "display_name": "Python 3 (ipykernel)",
   "language": "python",
   "name": "python3"
  },
  "language_info": {
   "codemirror_mode": {
    "name": "ipython",
    "version": 3
   },
   "file_extension": ".py",
   "mimetype": "text/x-python",
   "name": "python",
   "nbconvert_exporter": "python",
   "pygments_lexer": "ipython3",
   "version": "3.11.3"
  }
 },
 "nbformat": 4,
 "nbformat_minor": 5
}
